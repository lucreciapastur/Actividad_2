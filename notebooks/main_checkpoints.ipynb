{
 "cells": [
  {
   "cell_type": "markdown",
   "metadata": {},
   "source": [
    "# Actividad 2: ejercicio 10.\n",
    "Dado un conjunto de partidas, se simulan 5 rondas."
   ]
  },
  {
   "cell_type": "code",
   "execution_count": 33,
   "metadata": {},
   "outputs": [],
   "source": [
    "rounds = [\n",
    "    {\n",
    "        'Shadow': {'kills': 2, 'assists': 1, 'deaths': True},\n",
    "        'Blaze': {'kills': 1, 'assists': 0, 'deaths': False},\n",
    "        'Viper': {'kills': 1, 'assists': 2, 'deaths': True},\n",
    "        'Frost': {'kills': 0, 'assists': 1, 'deaths': False},\n",
    "        'Reaper': {'kills': 1, 'assists': 1, 'deaths': False}\n",
    "    },\n",
    "    {\n",
    "        'Shadow': {'kills': 0, 'assists': 2, 'deaths': False},\n",
    "        'Blaze': {'kills': 2, 'assists': 0, 'deaths': True},\n",
    "        'Viper': {'kills': 1, 'assists': 1, 'deaths': False},\n",
    "        'Frost': {'kills': 2, 'assists': 1, 'deaths': True},\n",
    "        'Reaper': {'kills': 0, 'assists': 1, 'deaths': False}\n",
    "    },\n",
    "    {\n",
    "        'Shadow': {'kills': 1, 'assists': 0, 'deaths': False},\n",
    "        'Blaze': {'kills': 2, 'assists': 2, 'deaths': True},\n",
    "        'Viper': {'kills': 1, 'assists': 1, 'deaths': True},\n",
    "        'Frost': {'kills': 0, 'assists': 1, 'deaths': False},\n",
    "        'Reaper': {'kills': 1, 'assists': 1, 'deaths': False}\n",
    "    },\n",
    "    {\n",
    "        'Shadow': {'kills': 2, 'assists': 1, 'deaths': False},\n",
    "        'Blaze': {'kills': 1, 'assists': 0, 'deaths': True},\n",
    "        'Viper': {'kills': 0, 'assists': 2, 'deaths': False},\n",
    "        'Frost': {'kills': 1, 'assists': 1, 'deaths': True},\n",
    "        'Reaper': {'kills': 1, 'assists': 1, 'deaths': False}\n",
    "    },\n",
    "    {\n",
    "        'Shadow': {'kills': 1, 'assists': 2, 'deaths': True},\n",
    "        'Blaze': {'kills': 0, 'assists': 1, 'deaths': False},\n",
    "        'Viper': {'kills': 2, 'assists': 0, 'deaths': True},\n",
    "        'Frost': {'kills': 1, 'assists': 1, 'deaths': False},\n",
    "        'Reaper': {'kills': 1, 'assists': 1, 'deaths': True}\n",
    "    }\n",
    "]"
   ]
  },
  {
   "cell_type": "markdown",
   "metadata": {},
   "source": [
    "### Función 1:\n",
    "Inicializo un diccionario de diccionarios llamado \"acumulado\", que guardará los datos de cada jugador. "
   ]
  },
  {
   "cell_type": "code",
   "execution_count": 34,
   "metadata": {},
   "outputs": [],
   "source": [
    "def inicializo_acumulado ():\n",
    "    acumulado = {}\n",
    "    for jugador in ['Shadow', 'Blaze', 'Viper', 'Frost', 'Reaper']:\n",
    "        acumulado[jugador] = {'kills':0, 'assists':0, 'deaths':0, 'mvps':0, 'puntos':0}\n",
    "    return acumulado"
   ]
  },
  {
   "cell_type": "markdown",
   "metadata": {},
   "source": [
    "### Función 2 y 3:\n",
    "Creo una función que calcula los puntos totales y otra que encuentra al jugador con mayor canidad de puntos. "
   ]
  },
  {
   "cell_type": "code",
   "execution_count": 35,
   "metadata": {},
   "outputs": [],
   "source": [
    "def calculo_puntos (kills, assists, deaths):\n",
    "    puntos = kills * 3 + assists * 1 + deaths * -1\n",
    "    return puntos\n",
    "\n",
    "def encuentro_mvp (puntos):\n",
    "    max_puntos = 0\n",
    "    for jugador in puntos:\n",
    "        punt = puntos[jugador]\n",
    "        if punt > max_puntos:\n",
    "            max_puntos = punt\n",
    "            mvp = jugador\n",
    "    return mvp"
   ]
  },
  {
   "cell_type": "markdown",
   "metadata": {},
   "source": [
    "### Función 4:\n",
    "Calculo los valores a ingresar en el diccionario llamado \"acumulado\", utilizando las funciones: calculo_puntos y encuentro_mvp. "
   ]
  },
  {
   "cell_type": "code",
   "execution_count": 36,
   "metadata": {},
   "outputs": [],
   "source": [
    "def calculo_acumulado (acumulado, ronda):\n",
    "    puntos = {}\n",
    "    for jugador in ronda:\n",
    "        acumulado[jugador]['kills'] += ronda[jugador]['kills']\n",
    "        acumulado[jugador]['assists'] += ronda[jugador]['assists']\n",
    "        acumulado[jugador]['deaths'] += 1 if ronda[jugador]['deaths'] else 0\n",
    "        puntos[jugador] = calculo_puntos(ronda[jugador]['kills'], ronda[jugador]['assists'], ronda[jugador]['deaths'])\n",
    "        acumulado[jugador]['puntos'] += puntos[jugador]\n",
    "    acumulado[encuentro_mvp(puntos)]['mvps'] += 1\n",
    "    return acumulado    "
   ]
  },
  {
   "cell_type": "markdown",
   "metadata": {},
   "source": [
    "### Función 5:\n",
    "Impresión del diccionario \"acumulado\" que contiene los datos de la ronda. "
   ]
  },
  {
   "cell_type": "code",
   "execution_count": 37,
   "metadata": {},
   "outputs": [],
   "source": [
    "def impresion_ronda (acumulado, num_ronda):\n",
    "    print(f\"Ranking ronda {num_ronda}:\")\n",
    "    print(f\"{'Jugador':<12} {'Kills':<12} {'Asistencias':<12} {'Muertes':<12} {'MVPs':<12} {'Puntos':<12}\")\n",
    "    print(\"-\" * 72)\n",
    "    ordenado=sorted(acumulado.items(), key=lambda elem: elem[1]['puntos'], reverse=True) \n",
    "    for jugador, info in ordenado:\n",
    "        print(f\"{jugador:<12} {info['kills']:<12} {info['assists']:<12} {info['deaths']:<12} {info['mvps']:<12} {info['puntos']:<12}\")\n",
    "    print(\"-\" * 72)\n",
    "    print()"
   ]
  },
  {
   "cell_type": "markdown",
   "metadata": {},
   "source": [
    "### Función 6: \n",
    "Función principal que corre las funciones: inicializo_acumulado, calculo_acumulado e impresion_ronda."
   ]
  },
  {
   "cell_type": "code",
   "execution_count": 38,
   "metadata": {},
   "outputs": [],
   "source": [
    "def procesando_rondas (rounds):\n",
    "    acumulado = inicializo_acumulado()\n",
    "    num_ronda = 1\n",
    "    for ronda in rounds:\n",
    "        acumulado = calculo_acumulado (acumulado, ronda)\n",
    "        impresion_ronda (acumulado, num_ronda)\n",
    "        num_ronda += 1"
   ]
  },
  {
   "cell_type": "markdown",
   "metadata": {},
   "source": [
    "### Programa principal:\n",
    "Y en el programa principal, llamo la función principal."
   ]
  },
  {
   "cell_type": "code",
   "execution_count": 39,
   "metadata": {},
   "outputs": [
    {
     "name": "stdout",
     "output_type": "stream",
     "text": [
      "Ranking ronda 1:\n",
      "Jugador      Kills        Asistencias  Muertes      MVPs         Puntos      \n",
      "------------------------------------------------------------------------\n",
      "Shadow       2            1            1            1            6           \n",
      "Viper        1            2            1            0            4           \n",
      "Reaper       1            1            0            0            4           \n",
      "Blaze        1            0            0            0            3           \n",
      "Frost        0            1            0            0            1           \n",
      "------------------------------------------------------------------------\n",
      "\n",
      "Ranking ronda 2:\n",
      "Jugador      Kills        Asistencias  Muertes      MVPs         Puntos      \n",
      "------------------------------------------------------------------------\n",
      "Shadow       2            3            1            1            8           \n",
      "Blaze        3            0            1            0            8           \n",
      "Viper        2            3            1            0            8           \n",
      "Frost        2            2            1            1            7           \n",
      "Reaper       1            2            0            0            5           \n",
      "------------------------------------------------------------------------\n",
      "\n",
      "Ranking ronda 3:\n",
      "Jugador      Kills        Asistencias  Muertes      MVPs         Puntos      \n",
      "------------------------------------------------------------------------\n",
      "Blaze        5            2            2            1            15          \n",
      "Shadow       3            3            1            1            11          \n",
      "Viper        3            4            2            0            11          \n",
      "Reaper       2            3            0            0            9           \n",
      "Frost        2            3            1            1            8           \n",
      "------------------------------------------------------------------------\n",
      "\n",
      "Ranking ronda 4:\n",
      "Jugador      Kills        Asistencias  Muertes      MVPs         Puntos      \n",
      "------------------------------------------------------------------------\n",
      "Shadow       5            4            1            2            18          \n",
      "Blaze        6            2            3            1            17          \n",
      "Viper        3            6            2            0            13          \n",
      "Reaper       3            4            0            0            13          \n",
      "Frost        3            4            2            1            11          \n",
      "------------------------------------------------------------------------\n",
      "\n",
      "Ranking ronda 5:\n",
      "Jugador      Kills        Asistencias  Muertes      MVPs         Puntos      \n",
      "------------------------------------------------------------------------\n",
      "Shadow       6            6            2            2            22          \n",
      "Blaze        6            3            3            1            18          \n",
      "Viper        5            6            3            1            18          \n",
      "Reaper       4            5            1            0            16          \n",
      "Frost        4            5            2            1            15          \n",
      "------------------------------------------------------------------------\n",
      "\n"
     ]
    }
   ],
   "source": [
    "procesando_rondas(rounds)"
   ]
  }
 ],
 "metadata": {
  "kernelspec": {
   "display_name": "venv",
   "language": "python",
   "name": "python3"
  },
  "language_info": {
   "codemirror_mode": {
    "name": "ipython",
    "version": 3
   },
   "file_extension": ".py",
   "mimetype": "text/x-python",
   "name": "python",
   "nbconvert_exporter": "python",
   "pygments_lexer": "ipython3",
   "version": "3.12.9"
  }
 },
 "nbformat": 4,
 "nbformat_minor": 2
}
